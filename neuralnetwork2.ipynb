{
 "cells": [
  {
   "attachments": {},
   "cell_type": "markdown",
   "metadata": {},
   "source": [
    "Import the Libraries and Data"
   ]
  },
  {
   "cell_type": "code",
   "execution_count": 113,
   "metadata": {},
   "outputs": [],
   "source": [
    "import pickle\n",
    "import numpy as np\n",
    "from matplotlib import pyplot as plt"
   ]
  },
  {
   "cell_type": "code",
   "execution_count": 114,
   "metadata": {},
   "outputs": [],
   "source": [
    "with open(\"C:\\\\Users\\\\Jerem\\\\Downloads\\\\train_data_spanish.pkl\", 'rb') as span_file:\n",
    "    span_train_data = pickle.load(span_file)\n",
    "span_train = [data[1] for data in span_train_data]\n",
    "\n",
    "with open(\"C:\\\\Users\\\\Jerem\\\\Downloads\\\\train_hard_labels_spanish.pkl\", 'rb') as span_labels_file:\n",
    "    span_labels_data = pickle.load(span_labels_file)\n",
    "\n",
    "\n",
    "span_train_labels = [1 if data[1] == 'YES' else 0 for data in span_labels_data]"
   ]
  },
  {
   "cell_type": "code",
   "execution_count": 115,
   "metadata": {},
   "outputs": [],
   "source": [
    "# get rid of any sentence under 15 words\n",
    "train_sents = []\n",
    "train_labels = []\n",
    "for sent, label in zip(span_train, span_train_labels):\n",
    "    sent = sent.strip().split()\n",
    "    if len(sent) > 15:\n",
    "        sent = ' '.join(sent)\n",
    "        train_sents.append(sent)\n",
    "        train_labels.append(label)"
   ]
  },
  {
   "cell_type": "code",
   "execution_count": 116,
   "metadata": {},
   "outputs": [
    {
     "name": "stdout",
     "output_type": "stream",
     "text": [
      "1231\n",
      "1564\n"
     ]
    }
   ],
   "source": [
    "# check the distribution of the data\n",
    "print(train_labels.count(0))\n",
    "print(train_labels.count(1))"
   ]
  },
  {
   "attachments": {},
   "cell_type": "markdown",
   "metadata": {},
   "source": [
    "TF-IDF Functions"
   ]
  },
  {
   "cell_type": "code",
   "execution_count": 117,
   "metadata": {},
   "outputs": [],
   "source": [
    "def makeVocab(vocab_sents, analyzer, ngram_range, min_count=110):\n",
    "    print('Making vocab...')\n",
    "    ngram_counts = {}\n",
    "    for sent in vocab_sents:\n",
    "        if analyzer == 'word':\n",
    "            words = sent.strip().split()\n",
    "            for n in range(ngram_range[0], ngram_range[1] + 1):\n",
    "                for i in range(len(words) - n + 1):\n",
    "                    ngram = ' '.join(words[i:i+n])\n",
    "                    ngram_counts[ngram] = ngram_counts.get(ngram, 0) + 1\n",
    "        elif analyzer == 'char':\n",
    "            chars = sent.strip()\n",
    "            for n in range(ngram_range[0], ngram_range[1] + 1):\n",
    "                for i in range(len(chars) - n + 1):\n",
    "                    ngram = chars[i:i+n]\n",
    "                    ngram_counts[ngram] = ngram_counts.get(ngram, 0) + 1\n",
    "    \n",
    "    vocab = [ngram for ngram, count in ngram_counts.items() if count >= min_count] #remove the ngrams with low counts to reduce sparsity\n",
    "    print(f'Vocab created with {len(vocab)} n-grams')\n",
    "    return vocab\n",
    "\n",
    "\n",
    "def getTermFreq(sent, ngram):\n",
    "    if not isinstance(sent, list):\n",
    "        sent = sent.split()\n",
    "    return sent.count(ngram)/len(sent)\n",
    "\n",
    "def getTermFreqMatrix(sentences, vocab):\n",
    "    print('Making TF matrix...')\n",
    "    matrix = np.zeros((len(sentences), len(vocab)))\n",
    "    for i, sent in enumerate(sentences):\n",
    "        if i % 250 == 0:\n",
    "            print(f'Processed {i}/{len(sentences)}')\n",
    "        for j, ngram in enumerate(vocab):\n",
    "            matrix[i, j] = getTermFreq(sent, ngram)\n",
    "    print(f'Processed {len(sentences)}/{len(sentences)}')\n",
    "    print('Term Frequency Matrix Created')\n",
    "    return matrix\n",
    "\n",
    "\n",
    "def getIDFmatrix(sentences, vocab):\n",
    "    print('Creating IDF matrix...')\n",
    "    n_sentences = len(sentences)\n",
    "    n_vocab = len(vocab)\n",
    "    \n",
    "    vocab_matrix = [[word for word in vocab] for i in range(n_sentences)]\n",
    "    sentences_matrix = [[sentence for i in range(n_vocab)] for sentence in sentences]\n",
    "    in_sent = [sum([1 for j in range(n_sentences) if vocab_matrix[j][i] in sentences_matrix[i]]) for i in range(n_vocab)]\n",
    "    idf = [np.log(n_sentences / (1 + count)) for count in in_sent]\n",
    "    idf_matrix = [[idf[j] for j in range(n_vocab)] for i in range(n_sentences)]\n",
    "\n",
    "    print('IDF matrix created')\n",
    "    return idf_matrix\n",
    "\n",
    "\n",
    "\n",
    "def TfIDF(sentences, analyzer, ngram_range):\n",
    "    vocab = makeVocab(sentences, analyzer, ngram_range) # make the vocabulary\n",
    "    term_freq_matrix = getTermFreqMatrix(sentences, vocab) \n",
    "    idf_matrix = getIDFmatrix(sentences, vocab)\n",
    "    tfidf_matrix = term_freq_matrix * idf_matrix\n",
    "    print('Complete')\n",
    "    return tfidf_matrix\n"
   ]
  },
  {
   "cell_type": "code",
   "execution_count": 118,
   "metadata": {},
   "outputs": [
    {
     "name": "stdout",
     "output_type": "stream",
     "text": [
      "Making vocab...\n",
      "Vocab created with 1236 n-grams\n",
      "Making TF matrix...\n",
      "Processed 0/2795\n",
      "Processed 250/2795\n",
      "Processed 500/2795\n",
      "Processed 750/2795\n",
      "Processed 1000/2795\n",
      "Processed 1250/2795\n",
      "Processed 1500/2795\n",
      "Processed 1750/2795\n",
      "Processed 2000/2795\n",
      "Processed 2250/2795\n",
      "Processed 2500/2795\n",
      "Processed 2750/2795\n",
      "Processed 2795/2795\n",
      "Term Frequency Matrix Created\n",
      "Creating IDF matrix...\n",
      "IDF matrix created\n",
      "Complete\n"
     ]
    }
   ],
   "source": [
    "tfidf = TfIDF(train_sents, analyzer='char', ngram_range=(2, 3))"
   ]
  },
  {
   "cell_type": "code",
   "execution_count": 119,
   "metadata": {},
   "outputs": [
    {
     "name": "stdout",
     "output_type": "stream",
     "text": [
      "(2795, 1236)\n"
     ]
    }
   ],
   "source": [
    "# Checking the shape of the tfidf matrix \n",
    "print(tfidf.shape)"
   ]
  },
  {
   "attachments": {},
   "cell_type": "markdown",
   "metadata": {},
   "source": [
    "Functions"
   ]
  },
  {
   "cell_type": "code",
   "execution_count": 120,
   "metadata": {},
   "outputs": [],
   "source": [
    "def sigmoid(x):\n",
    "    return 1 / (1 + np.exp(-x))\n",
    "\n",
    "def sigmoid_derivative(x):\n",
    "    return x * (1 - x)\n",
    "\n",
    "def relu(x):\n",
    "    return np.maximum(0, x)\n",
    "\n",
    "def relu_derivative(x):\n",
    "    return np.where(x > 0, 1, 0)\n",
    "\n",
    "def get_accuracy(y_true, y_pred):\n",
    "    correct_predictions = np.sum(y_true == y_pred)\n",
    "    total_predictions = len(y_true)\n",
    "    accuracy = correct_predictions / total_predictions\n",
    "    return accuracy\n",
    "\n",
    "def get_loss(y_true, y_pred): # binary cross entropy loss \n",
    "    loss = -1 * np.mean(y_true * np.log(y_pred) + (1 - y_true) * np.log(1 - y_pred))\n",
    "    return loss\n",
    "\n",
    "def train_neural_network(X, y, num_inputs, num_hidden, num_outputs, num_epochs, learning_rate):\n",
    "\n",
    "    # randomly initialize the weights\n",
    "    hidden_weights = np.random.randn(num_inputs, num_hidden)\n",
    "    output_weights = np.random.randn(num_hidden, num_outputs)\n",
    "    \n",
    "    # list to track the losses\n",
    "    losses = []\n",
    "    \n",
    "    for epoch in range(num_epochs):\n",
    "         # forward pass\n",
    "        hidden_activations = relu(np.dot(X, hidden_weights))\n",
    "        output_activations = sigmoid(np.dot(hidden_activations, output_weights))\n",
    "\n",
    "        # backwards pass\n",
    "        output_error = y.reshape(-1, num_outputs) - output_activations\n",
    "        output_gradient = output_error * sigmoid_derivative(output_activations)\n",
    "        \n",
    "        hidden_error = np.dot(output_gradient, output_weights.T)\n",
    "        hidden_gradient = hidden_error * relu_derivative(hidden_activations)\n",
    "\n",
    "        # updating the weights\n",
    "        output_weights += learning_rate * np.dot(hidden_activations.T, output_gradient)\n",
    "        hidden_weights += learning_rate * np.dot(X.T, hidden_gradient)\n",
    "    \n",
    "        # calculate and store the loss\n",
    "        loss = get_loss(y, output_activations)*100 # i am multiplying it by 100 bc I was getting really low numbers which led to divide by zero error\n",
    "        \n",
    "        \n",
    "        # check if the loss is increasing\n",
    "        if (len(losses) > 10 and loss > losses[epoch-1]) or (len(losses) > 10 and loss < 1) or np.isnan(loss): #only check after ten epochs, check if current loss is greater than previous loss\n",
    "            print('Stopping early at epoch', epoch)\n",
    "            break\n",
    "        else:\n",
    "            losses.append(loss) # if it is not increasing, save it and print it\n",
    "            if epoch % 10 == 0:\n",
    "                print(f'Epoch {epoch} loss: {loss}')\n",
    "\n",
    "    return hidden_weights, output_weights, losses\n",
    "\n",
    "def predict(X, hidden_weights, output_weights): # predict on the data to check performance\n",
    "    hidden_activations = relu(np.dot(X, hidden_weights))\n",
    "    output_activations = sigmoid(np.dot(hidden_activations, output_weights))\n",
    "    return np.round(output_activations).flatten()\n"
   ]
  },
  {
   "attachments": {},
   "cell_type": "markdown",
   "metadata": {},
   "source": [
    "Train the Neural Network"
   ]
  },
  {
   "cell_type": "code",
   "execution_count": 121,
   "metadata": {},
   "outputs": [
    {
     "name": "stdout",
     "output_type": "stream",
     "text": [
      "X shape (2795, 1236)\n",
      "Labels shape (2795,)\n",
      "Epoch 0 loss: 134.7108867598705\n",
      "Epoch 10 loss: 118.31196238871755\n",
      "Epoch 20 loss: 109.09345077851071\n",
      "Epoch 30 loss: 103.47997946584255\n",
      "Epoch 40 loss: 99.10302671648192\n",
      "Epoch 50 loss: 95.30641240718741\n",
      "Epoch 60 loss: 92.00135749304836\n",
      "Epoch 70 loss: 89.11451020182636\n",
      "Epoch 80 loss: 86.65175585460615\n",
      "Epoch 90 loss: 84.55974188304356\n",
      "Epoch 100 loss: 82.78287713732477\n",
      "Epoch 110 loss: 81.27534022187135\n",
      "Epoch 120 loss: 79.99660276614738\n",
      "Epoch 130 loss: 78.92279092702246\n",
      "Epoch 140 loss: 78.01560890814956\n",
      "Epoch 150 loss: 77.2572075341973\n",
      "Epoch 160 loss: 76.61393967692096\n",
      "Epoch 170 loss: 76.08263129942065\n",
      "Epoch 180 loss: 75.63847434349914\n",
      "Epoch 190 loss: 75.26363231482584\n",
      "Epoch 200 loss: 74.94819263183523\n",
      "Epoch 210 loss: 74.68326372954273\n",
      "Epoch 220 loss: 74.46828978014638\n",
      "Epoch 230 loss: 74.29008670447126\n",
      "Epoch 240 loss: 74.13922320014977\n",
      "Epoch 250 loss: 74.01367165413083\n",
      "Epoch 260 loss: 73.90835359512009\n",
      "Epoch 270 loss: 73.82027690016268\n",
      "Epoch 280 loss: 73.75055922729057\n",
      "Epoch 290 loss: 73.69562985125154\n",
      "Epoch 300 loss: 73.64981932592497\n",
      "Epoch 310 loss: 73.61163759721462\n",
      "Epoch 320 loss: 73.58146489294336\n",
      "Epoch 330 loss: 73.55712673348701\n",
      "Epoch 340 loss: 73.5373113162474\n",
      "Epoch 350 loss: 73.52255506496623\n",
      "Epoch 360 loss: 73.5113599783271\n",
      "Epoch 370 loss: 73.5027858883814\n",
      "Epoch 380 loss: 73.49791735007366\n",
      "Epoch 390 loss: 73.49531200630356\n",
      "Stopping early at epoch 394\n",
      "Accuracy: 0.6182468694096601\n"
     ]
    },
    {
     "data": {
      "image/png": "[encoded data removed]",
      "text/plain": [
       "<Figure size 640x480 with 1 Axes>"
      ]
     },
     "metadata": {},
     "output_type": "display_data"
    }
   ],
   "source": [
    "X = tfidf\n",
    "y = np.array(train_labels)\n",
    "\n",
    "print('X shape', X.shape)\n",
    "print('Labels shape', y.shape)\n",
    "\n",
    "num_inputs = tfidf.shape[1]\n",
    "num_hidden = 20\n",
    "num_outputs = 1\n",
    "\n",
    "hidden_weights, output_weights, losses = train_neural_network(tfidf, y, num_inputs, num_hidden, num_outputs, num_epochs=1000, learning_rate=0.001)\n",
    "\n",
    "\n",
    "# get the accuracy\n",
    "predicted_labels = predict(tfidf, hidden_weights, output_weights)\n",
    "\n",
    "accuracy = get_accuracy(train_labels, predicted_labels)\n",
    "print('Accuracy:', accuracy)\n",
    "\n",
    "# plot the loss over epochs\n",
    "plt.plot(losses)\n",
    "plt.xlabel('Epoch')\n",
    "plt.ylabel('Loss')\n",
    "plt.show()\n"
   ]
  }
 ],
 "metadata": {
  "kernelspec": {
   "display_name": "Python 3",
   "language": "python",
   "name": "python3"
  },
  "language_info": {
   "codemirror_mode": {
    "name": "ipython",
    "version": 3
   },
   "file_extension": ".py",
   "mimetype": "text/x-python",
   "name": "python",
   "nbconvert_exporter": "python",
   "pygments_lexer": "ipython3",
   "version": "3.11.0"
  },
  "orig_nbformat": 4
 },
 "nbformat": 4,
 "nbformat_minor": 2
}
